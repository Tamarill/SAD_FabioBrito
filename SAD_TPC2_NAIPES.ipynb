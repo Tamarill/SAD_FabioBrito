{
  "nbformat": 4,
  "nbformat_minor": 0,
  "metadata": {
    "colab": {
      "name": "SAD_TPC2.ipynb",
      "version": "0.3.2",
      "provenance": [],
      "collapsed_sections": [],
      "include_colab_link": true
    },
    "kernelspec": {
      "name": "python3",
      "display_name": "Python 3"
    }
  },
  "cells": [
    {
      "cell_type": "markdown",
      "metadata": {
        "id": "view-in-github",
        "colab_type": "text"
      },
      "source": [
        "<a href=\"https://colab.research.google.com/github/Tamarill/SAD_FabioBrito/blob/master/SAD_TPC2_NAIPES.ipynb\" target=\"_parent\"><img src=\"https://colab.research.google.com/assets/colab-badge.svg\" alt=\"Open In Colab\"/></a>"
      ]
    },
    {
      "metadata": {
        "id": "VGLQHvxCShQu",
        "colab_type": "code",
        "outputId": "08a9dc57-1955-4e16-ea66-885ab4181ea6",
        "colab": {
          "base_uri": "https://localhost:8080/",
          "height": 129
        }
      },
      "cell_type": "code",
      "source": [
        "#Função que devolve o número de naipes existentes\n",
        "def solution(s):\n",
        "\n",
        "  stringTemp = \"\"\n",
        "  \n",
        "  #percorrer a lista de input\n",
        "  for i in s:\n",
        "    \n",
        "    #Se não for uma vírgula, fazemos append à string temporária para ser lida depois\n",
        "    if i != \",\":\n",
        "      stringTemp = stringTemp + str(i)\n",
        "      \n",
        "    #Se for uma vírgula, vamos ao dicionário da carta correspondente dizer que temos mais uma carta desta natureza\n",
        "    else:\n",
        "      \n",
        "      #Verificar se o formato de input está correto (se existe esta chave no dicionário) \n",
        "      try:\n",
        "        baralhoCartasDict[stringTemp] = baralhoCartasDict[stringTemp] + 1\n",
        "        \n",
        "      #Chave do dicionário não existe. Retornar mensagem de erro\n",
        "      except KeyError:\n",
        "        return \"Formatação de input inválida! Por favor, verifique o texto introduzido.\"\n",
        "      \n",
        "      #limpar a string para receber uma nova carta\n",
        "      stringTemp = \"\"  \n",
        "  \n",
        "  #No final, adicionar a última carta, verificando se o formato de input está correto (se existe esta chave no dicionário) \n",
        "  try:\n",
        "      baralhoCartasDict[stringTemp] = baralhoCartasDict[stringTemp] + 1\n",
        "        \n",
        "  #Chave do dicionário não existe. Retornar mensagem de erro\n",
        "  except KeyError:\n",
        "      return \"Formatação de input inválida! Por favor, verifique o texto introduzido.\"\n",
        "      \n",
        "  #Finalmente retornar qual o número mínimo encontrado no universo de cartas existentes do dicionário\n",
        "  return min(baralhoCartasDict.values())\n",
        "\n",
        "\n",
        "#--\n",
        "\n",
        "#Dicionário com as cartas e respetivo número existente\n",
        "baralhoCartasDict = { \"1P\":0 , \"2P\":0 , \"3P\":0, \"4P\":0 , \"5P\":0 , \"6P\":0, \"7P\":0 , \"8P\":0 , \"9P\":0, \"10P\":0, \"JP\":0, \"QP\":0, \"KP\":0,\n",
        "                    \"1O\":0 , \"2O\":0 , \"3O\":0, \"4O\":0 , \"5O\":0 , \"6O\":0, \"7O\":0 , \"8O\":0 , \"9O\":0, \"10O\":0, \"JO\":0, \"QO\":0, \"KO\":0,\n",
        "                    \"1E\":0 , \"2E\":0 , \"3E\":0, \"4E\":0 , \"5E\":0 , \"6E\":0, \"7E\":0 , \"8E\":0 , \"9E\":0, \"10E\":0, \"JE\":0, \"QE\":0, \"KE\":0,\n",
        "                    \"1C\":0 , \"2C\":0 , \"3C\":0, \"4C\":0 , \"5C\":0 , \"6C\":0, \"7C\":0 , \"8C\":0 , \"9C\":0, \"10C\":0, \"JC\":0, \"QC\":0, \"KC\":0}\n",
        "\n",
        "#Pedido de input do utilizador que entra como string, é convertido numa lista de caracteres, e é passado para a função solution\n",
        "solution(input(\"Introduza as cartas para verificar quantos naipes existem, sendo que:\\nPode ser de 1 a 10 e J Q K e\\nDeve ser seguido por P, O, E, C (dependendo do naipe) e\\ncada carta tem de ser separada por uma vírgula:\"))\n",
        "\n",
        "#Exemplo de um naipe completo a inserir no input (para ajuda):\n",
        "#1P,2P,3P,4P,5P,6P,7P,8P,9P,10P,JP,QP,KP,1O,2O,3O,4O,5O,6O,7O,8O,9O,10O,JO,QO,KO,1E,2E,3E,4E,5E,6E,7E,8E,9E,10E,JE,QE,KE,1C,2C,3C,4C,5C,6C,7C,8C,9C,10C,JC,QC,KC\n",
        "\n"
      ],
      "execution_count": 0,
      "outputs": [
        {
          "output_type": "stream",
          "text": [
            "Introduza as cartas para verificar quantos naipes existem, sendo que:\n",
            "Pode ser de 1 a 10 e J Q K e\n",
            "Deve ser seguido por P, O, E, C (dependendo do naipe) e\n",
            "cada carta tem de ser separada por uma vírgula:1P,2P,3P,4P,5P,6P,7P,8P,9P,10P,JP,QP,KP,1O,2O,3O,4O,5O,6O,7O,8O,9O,10O,JO,QO,KO,1E,2E,3E,4E,5E,6E,7E,8E,9E,10E,JE,QE,KE,1C,2C,3C,4C,5C,6C,7C,8C,9C,10C,JC,QC,KC,1P,2P,3P,4P,5P,6P,7P,8P,9P,10P,JP,QP,KP,1O,2O,3O,4O,5O,6O,7O,8O,9O,10O,JO,QO,KO,1E,2E,3E,4E,5E,6E,7E,8E,9E,10E,JE,QE,KE,1C,2C,3C,4C,5C,6C,7C,8C,9C,10C,JC,QC\n"
          ],
          "name": "stdout"
        },
        {
          "output_type": "execute_result",
          "data": {
            "text/plain": [
              "1"
            ]
          },
          "metadata": {
            "tags": []
          },
          "execution_count": 7
        }
      ]
    }
  ]
}