{
  "nbformat": 4,
  "nbformat_minor": 0,
  "metadata": {
    "colab": {
      "name": "SAD_TPC1.ipynb",
      "version": "0.3.2",
      "provenance": [],
      "collapsed_sections": [],
      "include_colab_link": true
    },
    "kernelspec": {
      "name": "python3",
      "display_name": "Python 3"
    }
  },
  "cells": [
    {
      "cell_type": "markdown",
      "metadata": {
        "id": "view-in-github",
        "colab_type": "text"
      },
      "source": [
        "[View in Colaboratory](https://colab.research.google.com/github/Tamarill/SAD_FabioBrito/blob/master/SAD_TPC1.ipynb)"
      ]
    },
    {
      "metadata": {
        "id": "7NOgbENutcQq",
        "colab_type": "code",
        "colab": {
          "base_uri": "https://localhost:8080/",
          "height": 54
        },
        "outputId": "045ac385-ac15-4487-a842-96b3d9a0ec32"
      },
      "cell_type": "code",
      "source": [
        "#Função que valida se o input é válido ou inválido e devolve 1 ou 0, respectivamente\n",
        "def solution(s):\n",
        "  \n",
        "  #percorrer a lista de input\n",
        "  for i in s:\n",
        "    \n",
        "    #caso o elemento actual exista no dicionário como chave (e assim seja de \"fecho\")\n",
        "    if i in charElementsDict:\n",
        "      \n",
        "      #Obter o último item da stacklist e verificar se NÃO É uma abertura correspondente para este caracter ou a stacklist estiver vazia\n",
        "      if not stackList or stackList.pop() != charElementsDict[i]:\n",
        "        #Não sendo, podemos interromper o processo sabendo que é já inválido\n",
        "        return 0\n",
        "              \n",
        "    #caso contrário só pode ser um caracter de abertura, e fazemos append na stackList\n",
        "    else:\n",
        "      stackList.append(i)\n",
        "  \n",
        "  #No fim da lista, caso a stack esteja vazia, podemos retornar como validado. Senão, retornamos 0\n",
        "  if not stackList:\n",
        "    return 1\n",
        "  else:\n",
        "    return 0\n",
        "      \n",
        "\n",
        "#Dicionário com os caracteres e respectivos pares a serem usados para validação\n",
        "charElementsDict = { \"]\":\"[\" , \"}\":\"{\" , \")\":\"(\" }\n",
        "\n",
        "#Definição de uma lista que será usada como LIFO para validação das aberturas\n",
        "stackList = []\n",
        "\n",
        "#Pedido de input do utilizador que entra como string, é convertido numa lista de caracteres, e é passado para a função solution\n",
        "solution(list(input(\"Introduza a string a ser validada:\")))\n",
        "\n"
      ],
      "execution_count": 44,
      "outputs": [
        {
          "output_type": "stream",
          "text": [
            "Introduza a string a ser validada:())\n"
          ],
          "name": "stdout"
        },
        {
          "output_type": "execute_result",
          "data": {
            "text/plain": [
              "0"
            ]
          },
          "metadata": {
            "tags": []
          },
          "execution_count": 44
        }
      ]
    },
    {
      "metadata": {
        "id": "x-dvaUf2v67M",
        "colab_type": "code",
        "colab": {}
      },
      "cell_type": "code",
      "source": [
        ""
      ],
      "execution_count": 0,
      "outputs": []
    }
  ]
}